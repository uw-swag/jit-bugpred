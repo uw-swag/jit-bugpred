{
 "cells": [
  {
   "cell_type": "code",
   "execution_count": 1,
   "id": "rational-record",
   "metadata": {},
   "outputs": [],
   "source": [
    "%config Completer.use_jedi = False"
   ]
  },
  {
   "cell_type": "code",
   "execution_count": 2,
   "id": "major-standard",
   "metadata": {},
   "outputs": [],
   "source": [
    "import pandas as pd\n",
    "import numpy as np\n",
    "from sklearn.metrics import roc_auc_score, roc_curve, precision_recall_curve\n",
    "import matplotlib.pyplot as plt\n",
    "from sklearn import metrics\n",
    "from sklearn.metrics import precision_recall_fscore_support\n",
    "from sklearn.metrics import f1_score"
   ]
  },
  {
   "cell_type": "markdown",
   "id": "legal-bookmark",
   "metadata": {},
   "source": [
    "## JITGNN openstack all tokens"
   ]
  },
  {
   "cell_type": "code",
   "execution_count": 19,
   "id": "optical-liabilities",
   "metadata": {},
   "outputs": [
    {
     "data": {
      "text/html": [
       "<div>\n",
       "<style scoped>\n",
       "    .dataframe tbody tr th:only-of-type {\n",
       "        vertical-align: middle;\n",
       "    }\n",
       "\n",
       "    .dataframe tbody tr th {\n",
       "        vertical-align: top;\n",
       "    }\n",
       "\n",
       "    .dataframe thead th {\n",
       "        text-align: right;\n",
       "    }\n",
       "</style>\n",
       "<table border=\"1\" class=\"dataframe\">\n",
       "  <thead>\n",
       "    <tr style=\"text-align: right;\">\n",
       "      <th></th>\n",
       "      <th>Unnamed: 0</th>\n",
       "      <th>y_true</th>\n",
       "      <th>y_score</th>\n",
       "    </tr>\n",
       "  </thead>\n",
       "  <tbody>\n",
       "    <tr>\n",
       "      <th>0</th>\n",
       "      <td>0</td>\n",
       "      <td>0</td>\n",
       "      <td>0.010518</td>\n",
       "    </tr>\n",
       "    <tr>\n",
       "      <th>1</th>\n",
       "      <td>1</td>\n",
       "      <td>0</td>\n",
       "      <td>0.634129</td>\n",
       "    </tr>\n",
       "    <tr>\n",
       "      <th>2</th>\n",
       "      <td>2</td>\n",
       "      <td>0</td>\n",
       "      <td>0.022170</td>\n",
       "    </tr>\n",
       "    <tr>\n",
       "      <th>3</th>\n",
       "      <td>3</td>\n",
       "      <td>0</td>\n",
       "      <td>0.250673</td>\n",
       "    </tr>\n",
       "    <tr>\n",
       "      <th>4</th>\n",
       "      <td>4</td>\n",
       "      <td>0</td>\n",
       "      <td>0.000984</td>\n",
       "    </tr>\n",
       "    <tr>\n",
       "      <th>...</th>\n",
       "      <td>...</td>\n",
       "      <td>...</td>\n",
       "      <td>...</td>\n",
       "    </tr>\n",
       "    <tr>\n",
       "      <th>1027</th>\n",
       "      <td>1027</td>\n",
       "      <td>0</td>\n",
       "      <td>0.021710</td>\n",
       "    </tr>\n",
       "    <tr>\n",
       "      <th>1028</th>\n",
       "      <td>1028</td>\n",
       "      <td>0</td>\n",
       "      <td>0.259689</td>\n",
       "    </tr>\n",
       "    <tr>\n",
       "      <th>1029</th>\n",
       "      <td>1029</td>\n",
       "      <td>0</td>\n",
       "      <td>0.750613</td>\n",
       "    </tr>\n",
       "    <tr>\n",
       "      <th>1030</th>\n",
       "      <td>1030</td>\n",
       "      <td>0</td>\n",
       "      <td>0.024426</td>\n",
       "    </tr>\n",
       "    <tr>\n",
       "      <th>1031</th>\n",
       "      <td>1031</td>\n",
       "      <td>0</td>\n",
       "      <td>0.235498</td>\n",
       "    </tr>\n",
       "  </tbody>\n",
       "</table>\n",
       "<p>1032 rows × 3 columns</p>\n",
       "</div>"
      ],
      "text/plain": [
       "      Unnamed: 0  y_true   y_score\n",
       "0              0       0  0.010518\n",
       "1              1       0  0.634129\n",
       "2              2       0  0.022170\n",
       "3              3       0  0.250673\n",
       "4              4       0  0.000984\n",
       "...          ...     ...       ...\n",
       "1027        1027       0  0.021710\n",
       "1028        1028       0  0.259689\n",
       "1029        1029       0  0.750613\n",
       "1030        1030       0  0.024426\n",
       "1031        1031       0  0.235498\n",
       "\n",
       "[1032 rows x 3 columns]"
      ]
     },
     "execution_count": 19,
     "metadata": {},
     "output_type": "execute_result"
    }
   ],
   "source": [
    "df = pd.read_csv('../data/test_result_15.csv')\n",
    "df"
   ]
  },
  {
   "cell_type": "code",
   "execution_count": 20,
   "id": "allied-eclipse",
   "metadata": {},
   "outputs": [
    {
     "data": {
      "text/plain": [
       "0.7474214658691007"
      ]
     },
     "execution_count": 20,
     "metadata": {},
     "output_type": "execute_result"
    }
   ],
   "source": [
    "roc_auc_score(df['y_true'], df['y_score'])"
   ]
  },
  {
   "cell_type": "code",
   "execution_count": 21,
   "id": "concrete-roots",
   "metadata": {},
   "outputs": [],
   "source": [
    "buggy_df = df[df['y_true'] == 1]\n",
    "clean_df = df[df['y_true'] == 0]"
   ]
  },
  {
   "cell_type": "code",
   "execution_count": 22,
   "id": "interested-tournament",
   "metadata": {
    "scrolled": true
   },
   "outputs": [
    {
     "data": {
      "image/png": "[encoded data removed]",
      "text/plain": [
       "<Figure size 1440x360 with 1 Axes>"
      ]
     },
     "metadata": {
      "needs_background": "light"
     },
     "output_type": "display_data"
    },
    {
     "name": "stdout",
     "output_type": "stream",
     "text": [
      "mean=0.45, median=0.50, std=0.26\n"
     ]
    }
   ],
   "source": [
    "plt.rcParams['figure.figsize'] = [20, 5]\n",
    "n, bins, patches = plt.hist(x=buggy_df['y_score'], bins=np.arange(0.0, 1.0, 0.05), color='#0504aa')\n",
    "plt.grid(axis='y')\n",
    "plt.xlabel('Probability')\n",
    "plt.ylabel('Frequency')\n",
    "maxfreq = n.max()\n",
    "plt.ylim(ymax=np.ceil(maxfreq / 10) * 10 if maxfreq % 10 else maxfreq + 10)\n",
    "plt.show()\n",
    "\n",
    "agg = buggy_df['y_score'].agg(['mean', 'median', 'std'])\n",
    "print('mean={:.2f}, median={:.2f}, std={:.2f}'.format(agg['mean'], agg['median'], agg['std']))"
   ]
  },
  {
   "cell_type": "code",
   "execution_count": 23,
   "id": "minimal-device",
   "metadata": {},
   "outputs": [
    {
     "data": {
      "image/png": "[encoded data removed]",
      "text/plain": [
       "<Figure size 1440x360 with 1 Axes>"
      ]
     },
     "metadata": {
      "needs_background": "light"
     },
     "output_type": "display_data"
    },
    {
     "name": "stdout",
     "output_type": "stream",
     "text": [
      "mean=0.22, median=0.13, std=0.22\n"
     ]
    }
   ],
   "source": [
    "plt.rcParams['figure.figsize'] = [20, 5]\n",
    "n, bins, patches = plt.hist(x=clean_df['y_score'], bins=np.arange(0.0, 1.0, 0.05), color='#0504aa')\n",
    "plt.grid(axis='y')\n",
    "plt.xlabel('Probability')\n",
    "plt.ylabel('Frequency')\n",
    "maxfreq = n.max()\n",
    "plt.ylim(ymax=np.ceil(maxfreq / 10) * 10 if maxfreq % 10 else maxfreq + 10)\n",
    "plt.show()\n",
    "\n",
    "agg = clean_df['y_score'].agg(['mean', 'median', 'std'])\n",
    "print('mean={:.2f}, median={:.2f}, std={:.2f}'.format(agg['mean'], agg['median'], agg['std']))"
   ]
  },
  {
   "cell_type": "code",
   "execution_count": 24,
   "id": "incredible-lodging",
   "metadata": {
    "scrolled": false
   },
   "outputs": [
    {
     "name": "stdout",
     "output_type": "stream",
     "text": [
      "at 0.20 threshold, p=0.25, r=0.79, f1=0.38\n",
      "at 0.21 threshold, p=0.26, r=0.77, f1=0.39\n",
      "at 0.22 threshold, p=0.26, r=0.75, f1=0.39\n",
      "at 0.23 threshold, p=0.27, r=0.74, f1=0.39\n",
      "at 0.24 threshold, p=0.27, r=0.73, f1=0.39\n",
      "at 0.25 threshold, p=0.27, r=0.71, f1=0.39\n",
      "at 0.26 threshold, p=0.28, r=0.71, f1=0.40\n",
      "at 0.27 threshold, p=0.28, r=0.69, f1=0.40\n",
      "at 0.28 threshold, p=0.28, r=0.68, f1=0.39\n",
      "at 0.29 threshold, p=0.29, r=0.68, f1=0.40\n",
      "at 0.30 threshold, p=0.29, r=0.66, f1=0.40\n",
      "at 0.31 threshold, p=0.29, r=0.65, f1=0.40\n",
      "at 0.32 threshold, p=0.30, r=0.65, f1=0.41\n",
      "at 0.33 threshold, p=0.30, r=0.64, f1=0.41\n",
      "at 0.34 threshold, p=0.30, r=0.64, f1=0.41\n",
      "at 0.35 threshold, p=0.31, r=0.64, f1=0.42\n",
      "at 0.36 threshold, p=0.31, r=0.62, f1=0.41\n",
      "at 0.37 threshold, p=0.31, r=0.60, f1=0.41\n",
      "at 0.38 threshold, p=0.31, r=0.59, f1=0.41\n",
      "at 0.39 threshold, p=0.32, r=0.59, f1=0.41\n",
      "at 0.40 threshold, p=0.32, r=0.59, f1=0.42\n",
      "at 0.41 threshold, p=0.33, r=0.59, f1=0.42\n",
      "at 0.42 threshold, p=0.33, r=0.58, f1=0.42\n",
      "at 0.43 threshold, p=0.33, r=0.56, f1=0.42\n",
      "at 0.44 threshold, p=0.33, r=0.55, f1=0.41\n",
      "at 0.45 threshold, p=0.33, r=0.54, f1=0.41\n",
      "at 0.46 threshold, p=0.33, r=0.54, f1=0.41\n",
      "at 0.47 threshold, p=0.33, r=0.52, f1=0.40\n",
      "at 0.48 threshold, p=0.33, r=0.52, f1=0.40\n",
      "at 0.49 threshold, p=0.34, r=0.52, f1=0.41\n",
      "at 0.50 threshold, p=0.34, r=0.49, f1=0.40\n",
      "at 0.51 threshold, p=0.35, r=0.49, f1=0.41\n",
      "at 0.52 threshold, p=0.35, r=0.48, f1=0.40\n",
      "at 0.53 threshold, p=0.35, r=0.46, f1=0.40\n",
      "at 0.54 threshold, p=0.35, r=0.45, f1=0.39\n",
      "at 0.55 threshold, p=0.35, r=0.44, f1=0.39\n",
      "at 0.56 threshold, p=0.34, r=0.42, f1=0.38\n",
      "at 0.57 threshold, p=0.36, r=0.40, f1=0.38\n",
      "at 0.58 threshold, p=0.37, r=0.39, f1=0.38\n",
      "at 0.59 threshold, p=0.36, r=0.37, f1=0.37\n"
     ]
    }
   ],
   "source": [
    "bound = np.arange(0.20, 0.60, 0.01)\n",
    "\n",
    "for b in bound:\n",
    "    pred = [1 if prob >= b else 0 for prob in df['y_score']]\n",
    "    p, r, f1, _ = precision_recall_fscore_support(df['y_true'], pred, average='binary')\n",
    "    print('at {:3.2f} threshold, p={:.2f}, r={:.2f}, f1={:.2f}'.format(b, p, r, f1))"
   ]
  },
  {
   "cell_type": "code",
   "execution_count": 25,
   "id": "flying-tracy",
   "metadata": {
    "scrolled": false
   },
   "outputs": [
    {
     "data": {
      "image/png": "[encoded data removed]",
      "text/plain": [
       "<Figure size 1440x360 with 1 Axes>"
      ]
     },
     "metadata": {
      "needs_background": "light"
     },
     "output_type": "display_data"
    }
   ],
   "source": [
    "fpr, tpr, _ = roc_curve(df['y_true'], df['y_score'])\n",
    "\n",
    "plt.clf()\n",
    "plt.title('Receiver Operating Characteristic')\n",
    "plt.plot(fpr, tpr, 'b', label='AUC = %0.2f' % metrics.auc(fpr, tpr))\n",
    "plt.legend(loc='lower right')\n",
    "plt.plot([0, 1], [0, 1], 'r--')\n",
    "plt.xlim([0, 1])\n",
    "plt.ylim([0, 1])\n",
    "plt.ylabel('True Positive Rate')\n",
    "plt.xlabel('False Positive Rate')\n",
    "plt.show()"
   ]
  },
  {
   "cell_type": "code",
   "execution_count": 26,
   "id": "green-background",
   "metadata": {},
   "outputs": [
    {
     "data": {
      "image/png": "[encoded data removed]",
      "text/plain": [
       "<Figure size 1440x360 with 1 Axes>"
      ]
     },
     "metadata": {
      "needs_background": "light"
     },
     "output_type": "display_data"
    }
   ],
   "source": [
    "p, r, _ = precision_recall_curve(df['y_true'], df['y_score'])\n",
    "\n",
    "plt.clf()\n",
    "plt.title('Precision-Recall')\n",
    "plt.plot(r, p, 'b', label='AUC = %0.2f' % metrics.auc(r, p))\n",
    "plt.legend(loc='upper right')\n",
    "plt.xlim([0, 1])\n",
    "plt.ylim([0, 1])\n",
    "plt.ylabel('Precision')\n",
    "plt.xlabel('Recall')\n",
    "plt.show()"
   ]
  },
  {
   "cell_type": "code",
   "execution_count": null,
   "id": "revolutionary-teaching",
   "metadata": {},
   "outputs": [],
   "source": []
  },
  {
   "cell_type": "code",
   "execution_count": null,
   "id": "professional-delivery",
   "metadata": {},
   "outputs": [],
   "source": []
  },
  {
   "cell_type": "code",
   "execution_count": null,
   "id": "stock-mobility",
   "metadata": {},
   "outputs": [],
   "source": []
  },
  {
   "cell_type": "code",
   "execution_count": null,
   "id": "impaired-people",
   "metadata": {},
   "outputs": [],
   "source": []
  },
  {
   "cell_type": "markdown",
   "id": "continuing-wallpaper",
   "metadata": {},
   "source": [
    "## JITLine openstack"
   ]
  },
  {
   "cell_type": "code",
   "execution_count": 118,
   "id": "younger-milwaukee",
   "metadata": {},
   "outputs": [
    {
     "data": {
      "text/html": [
       "<div>\n",
       "<style scoped>\n",
       "    .dataframe tbody tr th:only-of-type {\n",
       "        vertical-align: middle;\n",
       "    }\n",
       "\n",
       "    .dataframe tbody tr th {\n",
       "        vertical-align: top;\n",
       "    }\n",
       "\n",
       "    .dataframe thead th {\n",
       "        text-align: right;\n",
       "    }\n",
       "</style>\n",
       "<table border=\"1\" class=\"dataframe\">\n",
       "  <thead>\n",
       "    <tr style=\"text-align: right;\">\n",
       "      <th></th>\n",
       "      <th>Unnamed: 0</th>\n",
       "      <th>prob</th>\n",
       "      <th>actual</th>\n",
       "      <th>test_commit</th>\n",
       "    </tr>\n",
       "  </thead>\n",
       "  <tbody>\n",
       "    <tr>\n",
       "      <th>0</th>\n",
       "      <td>0</td>\n",
       "      <td>0.230000</td>\n",
       "      <td>0</td>\n",
       "      <td>001f865c3cd5f55ddc52c8b68ef49d6b00fe0395</td>\n",
       "    </tr>\n",
       "    <tr>\n",
       "      <th>1</th>\n",
       "      <td>1</td>\n",
       "      <td>0.106667</td>\n",
       "      <td>0</td>\n",
       "      <td>0044a90a7409c5b004cc2d0cc56f6afeaf54ccf9</td>\n",
       "    </tr>\n",
       "    <tr>\n",
       "      <th>2</th>\n",
       "      <td>2</td>\n",
       "      <td>0.096667</td>\n",
       "      <td>0</td>\n",
       "      <td>006fea117307460544492a3548203a9ef31f34ba</td>\n",
       "    </tr>\n",
       "    <tr>\n",
       "      <th>3</th>\n",
       "      <td>3</td>\n",
       "      <td>0.416667</td>\n",
       "      <td>0</td>\n",
       "      <td>00a162c4d42a0f7813058d2ae5c3208b4f7a3157</td>\n",
       "    </tr>\n",
       "    <tr>\n",
       "      <th>4</th>\n",
       "      <td>4</td>\n",
       "      <td>0.003333</td>\n",
       "      <td>0</td>\n",
       "      <td>00a4f63f373af0b87c9c4ba8671720bb8324c80a</td>\n",
       "    </tr>\n",
       "    <tr>\n",
       "      <th>...</th>\n",
       "      <td>...</td>\n",
       "      <td>...</td>\n",
       "      <td>...</td>\n",
       "      <td>...</td>\n",
       "    </tr>\n",
       "    <tr>\n",
       "      <th>1027</th>\n",
       "      <td>1027</td>\n",
       "      <td>0.290000</td>\n",
       "      <td>0</td>\n",
       "      <td>ff6a3dc031d782d01607e28c8bd3fb5aa396bb16</td>\n",
       "    </tr>\n",
       "    <tr>\n",
       "      <th>1028</th>\n",
       "      <td>1028</td>\n",
       "      <td>0.346667</td>\n",
       "      <td>1</td>\n",
       "      <td>ff6e64992bf40fd2ac6618cbe50b8844e35b6538</td>\n",
       "    </tr>\n",
       "    <tr>\n",
       "      <th>1029</th>\n",
       "      <td>1029</td>\n",
       "      <td>0.330000</td>\n",
       "      <td>0</td>\n",
       "      <td>ff753cd608973f5d72a80aef0f9fb8a646fccc3f</td>\n",
       "    </tr>\n",
       "    <tr>\n",
       "      <th>1030</th>\n",
       "      <td>1030</td>\n",
       "      <td>0.723333</td>\n",
       "      <td>0</td>\n",
       "      <td>ff7623f3c9e34a30ebff213fe19c775b1848eb2a</td>\n",
       "    </tr>\n",
       "    <tr>\n",
       "      <th>1031</th>\n",
       "      <td>1031</td>\n",
       "      <td>0.410000</td>\n",
       "      <td>0</td>\n",
       "      <td>ffd5a740b823d61a8c99af91fe7f66b87772339b</td>\n",
       "    </tr>\n",
       "  </tbody>\n",
       "</table>\n",
       "<p>1032 rows × 4 columns</p>\n",
       "</div>"
      ],
      "text/plain": [
       "      Unnamed: 0      prob  actual                               test_commit\n",
       "0              0  0.230000       0  001f865c3cd5f55ddc52c8b68ef49d6b00fe0395\n",
       "1              1  0.106667       0  0044a90a7409c5b004cc2d0cc56f6afeaf54ccf9\n",
       "2              2  0.096667       0  006fea117307460544492a3548203a9ef31f34ba\n",
       "3              3  0.416667       0  00a162c4d42a0f7813058d2ae5c3208b4f7a3157\n",
       "4              4  0.003333       0  00a4f63f373af0b87c9c4ba8671720bb8324c80a\n",
       "...          ...       ...     ...                                       ...\n",
       "1027        1027  0.290000       0  ff6a3dc031d782d01607e28c8bd3fb5aa396bb16\n",
       "1028        1028  0.346667       1  ff6e64992bf40fd2ac6618cbe50b8844e35b6538\n",
       "1029        1029  0.330000       0  ff753cd608973f5d72a80aef0f9fb8a646fccc3f\n",
       "1030        1030  0.723333       0  ff7623f3c9e34a30ebff213fe19c775b1848eb2a\n",
       "1031        1031  0.410000       0  ffd5a740b823d61a8c99af91fe7f66b87772339b\n",
       "\n",
       "[1032 rows x 4 columns]"
      ]
     },
     "execution_count": 118,
     "metadata": {},
     "output_type": "execute_result"
    }
   ],
   "source": [
    "df = pd.read_csv('../data/openstack_RF_DE_SMOTE_min_df_3_prediction_result.csv').drop(['pred'], axis=1)\n",
    "df"
   ]
  },
  {
   "cell_type": "code",
   "execution_count": 119,
   "id": "sticky-mount",
   "metadata": {},
   "outputs": [
    {
     "data": {
      "text/plain": [
       "0.7940707016197072"
      ]
     },
     "execution_count": 119,
     "metadata": {},
     "output_type": "execute_result"
    }
   ],
   "source": [
    "roc_auc_score(df['actual'], df['prob'])"
   ]
  },
  {
   "cell_type": "code",
   "execution_count": 120,
   "id": "resident-corrections",
   "metadata": {},
   "outputs": [],
   "source": [
    "buggy_df = df[df['actual'] == 1]\n",
    "clean_df = df[df['actual'] == 0]"
   ]
  },
  {
   "cell_type": "code",
   "execution_count": 123,
   "id": "searching-attraction",
   "metadata": {},
   "outputs": [
    {
     "data": {
      "image/png": "[encoded data removed]",
      "text/plain": [
       "<Figure size 1440x360 with 1 Axes>"
      ]
     },
     "metadata": {
      "needs_background": "light"
     },
     "output_type": "display_data"
    },
    {
     "name": "stdout",
     "output_type": "stream",
     "text": [
      "mean=0.35, median=0.36, std=0.19\n"
     ]
    }
   ],
   "source": [
    "plt.rcParams['figure.figsize'] = [20, 5]\n",
    "n, bins, patches = plt.hist(x=buggy_df['prob'], bins=np.arange(0.0, 1.0, 0.05), color='#0504aa')\n",
    "plt.grid(axis='y')\n",
    "plt.xlabel('Probability')\n",
    "plt.ylabel('Frequency')\n",
    "maxfreq = n.max()\n",
    "plt.ylim(ymax=np.ceil(maxfreq / 10) * 10 if maxfreq % 10 else maxfreq + 10)\n",
    "plt.show()\n",
    "\n",
    "agg = buggy_df['prob'].agg(['mean', 'median', 'std'])\n",
    "print('mean={:.2f}, median={:.2f}, std={:.2f}'.format(agg['mean'], agg['median'], agg['std']))"
   ]
  },
  {
   "cell_type": "code",
   "execution_count": 124,
   "id": "durable-leeds",
   "metadata": {},
   "outputs": [
    {
     "data": {
      "image/png": "[encoded data removed]",
      "text/plain": [
       "<Figure size 1440x360 with 1 Axes>"
      ]
     },
     "metadata": {
      "needs_background": "light"
     },
     "output_type": "display_data"
    },
    {
     "name": "stdout",
     "output_type": "stream",
     "text": [
      "mean=0.16, median=0.10, std=0.16\n"
     ]
    }
   ],
   "source": [
    "plt.rcParams['figure.figsize'] = [20, 5]\n",
    "n, bins, patches = plt.hist(x=clean_df['prob'], bins=np.arange(0.0, 1.0, 0.05), color='#0504aa')\n",
    "plt.grid(axis='y')\n",
    "plt.xlabel('Probability')\n",
    "plt.ylabel('Frequency')\n",
    "maxfreq = n.max()\n",
    "plt.ylim(ymax=np.ceil(maxfreq / 10) * 10 if maxfreq % 10 else maxfreq + 10)\n",
    "plt.show()\n",
    "\n",
    "agg = clean_df['prob'].agg(['mean', 'median', 'std'])\n",
    "print('mean={:.2f}, median={:.2f}, std={:.2f}'.format(agg['mean'], agg['median'], agg['std']))"
   ]
  },
  {
   "cell_type": "code",
   "execution_count": null,
   "id": "national-completion",
   "metadata": {},
   "outputs": [],
   "source": []
  },
  {
   "cell_type": "code",
   "execution_count": null,
   "id": "blank-florence",
   "metadata": {},
   "outputs": [],
   "source": []
  },
  {
   "cell_type": "code",
   "execution_count": null,
   "id": "under-agent",
   "metadata": {},
   "outputs": [],
   "source": []
  },
  {
   "cell_type": "code",
   "execution_count": null,
   "id": "patient-klein",
   "metadata": {},
   "outputs": [],
   "source": []
  },
  {
   "cell_type": "code",
   "execution_count": 74,
   "id": "increasing-relative",
   "metadata": {},
   "outputs": [
    {
     "name": "stdout",
     "output_type": "stream",
     "text": [
      "at 0.20 threshold, p=0.31, r=0.77, f1=0.44\n",
      "at 0.21 threshold, p=0.32, r=0.75, f1=0.45\n",
      "at 0.22 threshold, p=0.32, r=0.71, f1=0.44\n",
      "at 0.23 threshold, p=0.32, r=0.70, f1=0.44\n",
      "at 0.24 threshold, p=0.33, r=0.68, f1=0.45\n",
      "at 0.25 threshold, p=0.33, r=0.66, f1=0.44\n",
      "at 0.26 threshold, p=0.33, r=0.65, f1=0.44\n",
      "at 0.27 threshold, p=0.33, r=0.63, f1=0.43\n",
      "at 0.28 threshold, p=0.34, r=0.63, f1=0.44\n",
      "at 0.29 threshold, p=0.34, r=0.60, f1=0.43\n",
      "at 0.30 threshold, p=0.35, r=0.59, f1=0.44\n",
      "at 0.31 threshold, p=0.36, r=0.58, f1=0.44\n",
      "at 0.32 threshold, p=0.36, r=0.56, f1=0.44\n",
      "at 0.33 threshold, p=0.38, r=0.56, f1=0.45\n",
      "at 0.34 threshold, p=0.38, r=0.54, f1=0.44\n",
      "at 0.35 threshold, p=0.38, r=0.52, f1=0.44\n",
      "at 0.36 threshold, p=0.37, r=0.50, f1=0.43\n",
      "at 0.37 threshold, p=0.38, r=0.48, f1=0.42\n",
      "at 0.38 threshold, p=0.38, r=0.46, f1=0.42\n",
      "at 0.39 threshold, p=0.38, r=0.45, f1=0.41\n",
      "at 0.40 threshold, p=0.38, r=0.42, f1=0.40\n",
      "at 0.41 threshold, p=0.39, r=0.41, f1=0.40\n",
      "at 0.42 threshold, p=0.39, r=0.38, f1=0.38\n",
      "at 0.43 threshold, p=0.39, r=0.36, f1=0.38\n",
      "at 0.44 threshold, p=0.40, r=0.35, f1=0.37\n",
      "at 0.45 threshold, p=0.39, r=0.32, f1=0.35\n",
      "at 0.46 threshold, p=0.40, r=0.31, f1=0.35\n",
      "at 0.47 threshold, p=0.41, r=0.30, f1=0.35\n",
      "at 0.48 threshold, p=0.40, r=0.27, f1=0.32\n",
      "at 0.49 threshold, p=0.41, r=0.24, f1=0.30\n",
      "at 0.50 threshold, p=0.42, r=0.23, f1=0.30\n",
      "at 0.51 threshold, p=0.43, r=0.22, f1=0.29\n",
      "at 0.52 threshold, p=0.44, r=0.21, f1=0.28\n",
      "at 0.53 threshold, p=0.44, r=0.19, f1=0.26\n",
      "at 0.54 threshold, p=0.45, r=0.17, f1=0.24\n",
      "at 0.55 threshold, p=0.47, r=0.15, f1=0.22\n",
      "at 0.56 threshold, p=0.49, r=0.15, f1=0.23\n",
      "at 0.57 threshold, p=0.52, r=0.15, f1=0.23\n",
      "at 0.58 threshold, p=0.53, r=0.14, f1=0.22\n",
      "at 0.59 threshold, p=0.55, r=0.12, f1=0.20\n"
     ]
    }
   ],
   "source": [
    "bound = np.arange(0.20, 0.60, 0.01)\n",
    "\n",
    "for b in bound:\n",
    "    pred = [1 if prob >= b else 0 for prob in df['prob']]\n",
    "    p, r, f1, _ = precision_recall_fscore_support(df['actual'], pred, average='binary')\n",
    "    print('at {:3.2f} threshold, p={:.2f}, r={:.2f}, f1={:.2f}'.format(b, p, r, f1))"
   ]
  },
  {
   "cell_type": "code",
   "execution_count": 77,
   "id": "confidential-proxy",
   "metadata": {},
   "outputs": [
    {
     "data": {
      "image/png": "[encoded data removed]",
      "text/plain": [
       "<Figure size 432x288 with 1 Axes>"
      ]
     },
     "metadata": {
      "needs_background": "light"
     },
     "output_type": "display_data"
    }
   ],
   "source": [
    "fpr, tpr, _ = roc_curve(df['actual'], df['prob'])\n",
    "\n",
    "plt.clf()\n",
    "plt.title('Receiver Operating Characteristic')\n",
    "plt.plot(fpr, tpr, 'b', label='AUC = %0.2f' % metrics.auc(fpr, tpr))\n",
    "plt.legend(loc='lower right')\n",
    "plt.plot([0, 1], [0, 1], 'r--')\n",
    "plt.xlim([0, 1])\n",
    "plt.ylim([0, 1])\n",
    "plt.ylabel('True Positive Rate')\n",
    "plt.xlabel('False Positive Rate')\n",
    "plt.show()"
   ]
  },
  {
   "cell_type": "code",
   "execution_count": 78,
   "id": "essential-bryan",
   "metadata": {},
   "outputs": [
    {
     "data": {
      "image/png": "[encoded data removed]",
      "text/plain": [
       "<Figure size 432x288 with 1 Axes>"
      ]
     },
     "metadata": {
      "needs_background": "light"
     },
     "output_type": "display_data"
    }
   ],
   "source": [
    "p, r, _ = precision_recall_curve(df['actual'], df['prob'])\n",
    "\n",
    "plt.clf()\n",
    "plt.title('Precision-Recall')\n",
    "plt.plot(r, p, 'b', label='AUC = %0.2f' % metrics.auc(r, p))\n",
    "plt.legend(loc='upper right')\n",
    "plt.xlim([0, 1])\n",
    "plt.ylim([0, 1])\n",
    "plt.ylabel('Precision')\n",
    "plt.xlabel('Recall')\n",
    "plt.show()"
   ]
  },
  {
   "cell_type": "code",
   "execution_count": null,
   "id": "moving-magic",
   "metadata": {},
   "outputs": [],
   "source": []
  },
  {
   "cell_type": "code",
   "execution_count": null,
   "id": "elder-parameter",
   "metadata": {},
   "outputs": [],
   "source": []
  },
  {
   "cell_type": "code",
   "execution_count": null,
   "id": "integrated-newark",
   "metadata": {},
   "outputs": [],
   "source": []
  },
  {
   "cell_type": "markdown",
   "id": "assured-diamond",
   "metadata": {},
   "source": [
    "## apache balance spacial tokens"
   ]
  },
  {
   "cell_type": "code",
   "execution_count": 3,
   "id": "beneficial-official",
   "metadata": {},
   "outputs": [
    {
     "data": {
      "text/html": [
       "<div>\n",
       "<style scoped>\n",
       "    .dataframe tbody tr th:only-of-type {\n",
       "        vertical-align: middle;\n",
       "    }\n",
       "\n",
       "    .dataframe tbody tr th {\n",
       "        vertical-align: top;\n",
       "    }\n",
       "\n",
       "    .dataframe thead th {\n",
       "        text-align: right;\n",
       "    }\n",
       "</style>\n",
       "<table border=\"1\" class=\"dataframe\">\n",
       "  <thead>\n",
       "    <tr style=\"text-align: right;\">\n",
       "      <th></th>\n",
       "      <th>Unnamed: 0</th>\n",
       "      <th>y_true</th>\n",
       "      <th>y_score</th>\n",
       "    </tr>\n",
       "  </thead>\n",
       "  <tbody>\n",
       "    <tr>\n",
       "      <th>0</th>\n",
       "      <td>0</td>\n",
       "      <td>0</td>\n",
       "      <td>0.422226</td>\n",
       "    </tr>\n",
       "    <tr>\n",
       "      <th>1</th>\n",
       "      <td>1</td>\n",
       "      <td>0</td>\n",
       "      <td>0.798243</td>\n",
       "    </tr>\n",
       "    <tr>\n",
       "      <th>2</th>\n",
       "      <td>2</td>\n",
       "      <td>0</td>\n",
       "      <td>0.273409</td>\n",
       "    </tr>\n",
       "    <tr>\n",
       "      <th>3</th>\n",
       "      <td>3</td>\n",
       "      <td>0</td>\n",
       "      <td>0.574566</td>\n",
       "    </tr>\n",
       "    <tr>\n",
       "      <th>4</th>\n",
       "      <td>4</td>\n",
       "      <td>0</td>\n",
       "      <td>0.294470</td>\n",
       "    </tr>\n",
       "    <tr>\n",
       "      <th>...</th>\n",
       "      <td>...</td>\n",
       "      <td>...</td>\n",
       "      <td>...</td>\n",
       "    </tr>\n",
       "    <tr>\n",
       "      <th>6456</th>\n",
       "      <td>6456</td>\n",
       "      <td>0</td>\n",
       "      <td>0.272401</td>\n",
       "    </tr>\n",
       "    <tr>\n",
       "      <th>6457</th>\n",
       "      <td>6457</td>\n",
       "      <td>0</td>\n",
       "      <td>0.335241</td>\n",
       "    </tr>\n",
       "    <tr>\n",
       "      <th>6458</th>\n",
       "      <td>6458</td>\n",
       "      <td>0</td>\n",
       "      <td>0.074335</td>\n",
       "    </tr>\n",
       "    <tr>\n",
       "      <th>6459</th>\n",
       "      <td>6459</td>\n",
       "      <td>0</td>\n",
       "      <td>0.161513</td>\n",
       "    </tr>\n",
       "    <tr>\n",
       "      <th>6460</th>\n",
       "      <td>6460</td>\n",
       "      <td>0</td>\n",
       "      <td>0.228390</td>\n",
       "    </tr>\n",
       "  </tbody>\n",
       "</table>\n",
       "<p>6461 rows × 3 columns</p>\n",
       "</div>"
      ],
      "text/plain": [
       "      Unnamed: 0  y_true   y_score\n",
       "0              0       0  0.422226\n",
       "1              1       0  0.798243\n",
       "2              2       0  0.273409\n",
       "3              3       0  0.574566\n",
       "4              4       0  0.294470\n",
       "...          ...     ...       ...\n",
       "6456        6456       0  0.272401\n",
       "6457        6457       0  0.335241\n",
       "6458        6458       0  0.074335\n",
       "6459        6459       0  0.161513\n",
       "6460        6460       0  0.228390\n",
       "\n",
       "[6461 rows x 3 columns]"
      ]
     },
     "execution_count": 3,
     "metadata": {},
     "output_type": "execute_result"
    }
   ],
   "source": [
    "df = pd.read_csv('../data/test_result_18.csv')\n",
    "df"
   ]
  },
  {
   "cell_type": "code",
   "execution_count": 4,
   "id": "conditional-timer",
   "metadata": {},
   "outputs": [
    {
     "data": {
      "text/plain": [
       "0.7903112990671977"
      ]
     },
     "execution_count": 4,
     "metadata": {},
     "output_type": "execute_result"
    }
   ],
   "source": [
    "roc_auc_score(df['y_true'], df['y_score'])"
   ]
  },
  {
   "cell_type": "code",
   "execution_count": 5,
   "id": "political-campbell",
   "metadata": {},
   "outputs": [],
   "source": [
    "buggy_df = df[df['y_true'] == 1]\n",
    "clean_df = df[df['y_true'] == 0]"
   ]
  },
  {
   "cell_type": "code",
   "execution_count": 6,
   "id": "modular-share",
   "metadata": {
    "scrolled": true
   },
   "outputs": [
    {
     "data": {
      "image/png": "[encoded data removed]",
      "text/plain": [
       "<Figure size 1440x360 with 1 Axes>"
      ]
     },
     "metadata": {
      "needs_background": "light"
     },
     "output_type": "display_data"
    },
    {
     "name": "stdout",
     "output_type": "stream",
     "text": [
      "mean=0.67, median=0.73, std=0.20\n"
     ]
    }
   ],
   "source": [
    "plt.rcParams['figure.figsize'] = [20, 5]\n",
    "n, bins, patches = plt.hist(x=buggy_df['y_score'], bins=np.arange(0.0, 1.0, 0.05), color='#0504aa')\n",
    "plt.grid(axis='y')\n",
    "plt.xlabel('Probability')\n",
    "plt.ylabel('Frequency')\n",
    "maxfreq = n.max()\n",
    "plt.ylim(ymax=np.ceil(maxfreq / 10) * 10 if maxfreq % 10 else maxfreq + 10)\n",
    "plt.show()\n",
    "\n",
    "agg = buggy_df['y_score'].agg(['mean', 'median', 'std'])\n",
    "print('mean={:.2f}, median={:.2f}, std={:.2f}'.format(agg['mean'], agg['median'], agg['std']))"
   ]
  },
  {
   "cell_type": "code",
   "execution_count": 7,
   "id": "numerical-federation",
   "metadata": {
    "scrolled": true
   },
   "outputs": [
    {
     "data": {
      "image/png": "[encoded data removed]",
      "text/plain": [
       "<Figure size 1440x360 with 1 Axes>"
      ]
     },
     "metadata": {
      "needs_background": "light"
     },
     "output_type": "display_data"
    },
    {
     "name": "stdout",
     "output_type": "stream",
     "text": [
      "mean=0.41, median=0.41, std=0.24\n"
     ]
    }
   ],
   "source": [
    "plt.rcParams['figure.figsize'] = [20, 5]\n",
    "n, bins, patches = plt.hist(x=clean_df['y_score'], bins=np.arange(0.0, 1.0, 0.05), color='#0504aa')\n",
    "plt.grid(axis='y')\n",
    "plt.xlabel('Probability')\n",
    "plt.ylabel('Frequency')\n",
    "maxfreq = n.max()\n",
    "plt.ylim(ymax=np.ceil(maxfreq / 10) * 10 if maxfreq % 10 else maxfreq + 10)\n",
    "plt.show()\n",
    "\n",
    "agg = clean_df['y_score'].agg(['mean', 'median', 'std'])\n",
    "print('mean={:.2f}, median={:.2f}, std={:.2f}'.format(agg['mean'], agg['median'], agg['std']))"
   ]
  },
  {
   "cell_type": "code",
   "execution_count": 9,
   "id": "forty-program",
   "metadata": {
    "scrolled": false
   },
   "outputs": [
    {
     "name": "stdout",
     "output_type": "stream",
     "text": [
      "at 0.20 threshold, p=0.54, r=0.96, f1=0.69\n",
      "at 0.21 threshold, p=0.54, r=0.95, f1=0.69\n",
      "at 0.22 threshold, p=0.54, r=0.95, f1=0.69\n",
      "at 0.23 threshold, p=0.55, r=0.95, f1=0.69\n",
      "at 0.24 threshold, p=0.55, r=0.94, f1=0.69\n",
      "at 0.25 threshold, p=0.56, r=0.94, f1=0.70\n",
      "at 0.26 threshold, p=0.56, r=0.94, f1=0.70\n",
      "at 0.27 threshold, p=0.56, r=0.93, f1=0.70\n",
      "at 0.28 threshold, p=0.57, r=0.93, f1=0.70\n",
      "at 0.29 threshold, p=0.57, r=0.93, f1=0.70\n",
      "at 0.30 threshold, p=0.57, r=0.92, f1=0.70\n",
      "at 0.31 threshold, p=0.57, r=0.91, f1=0.71\n",
      "at 0.32 threshold, p=0.58, r=0.91, f1=0.71\n",
      "at 0.33 threshold, p=0.58, r=0.91, f1=0.71\n",
      "at 0.34 threshold, p=0.59, r=0.90, f1=0.71\n",
      "at 0.35 threshold, p=0.59, r=0.90, f1=0.71\n",
      "at 0.36 threshold, p=0.59, r=0.89, f1=0.71\n",
      "at 0.37 threshold, p=0.60, r=0.89, f1=0.72\n",
      "at 0.38 threshold, p=0.60, r=0.89, f1=0.72\n",
      "at 0.39 threshold, p=0.61, r=0.88, f1=0.72\n",
      "at 0.40 threshold, p=0.61, r=0.88, f1=0.72\n",
      "at 0.41 threshold, p=0.62, r=0.87, f1=0.72\n",
      "at 0.42 threshold, p=0.62, r=0.87, f1=0.72\n",
      "at 0.43 threshold, p=0.62, r=0.86, f1=0.72\n",
      "at 0.44 threshold, p=0.63, r=0.85, f1=0.72\n",
      "at 0.45 threshold, p=0.63, r=0.85, f1=0.73\n",
      "at 0.46 threshold, p=0.64, r=0.84, f1=0.73\n",
      "at 0.47 threshold, p=0.64, r=0.84, f1=0.73\n",
      "at 0.48 threshold, p=0.65, r=0.83, f1=0.73\n",
      "at 0.49 threshold, p=0.65, r=0.82, f1=0.73\n",
      "at 0.50 threshold, p=0.66, r=0.81, f1=0.73\n",
      "at 0.51 threshold, p=0.66, r=0.80, f1=0.73\n",
      "at 0.52 threshold, p=0.67, r=0.80, f1=0.73\n",
      "at 0.53 threshold, p=0.67, r=0.79, f1=0.73\n",
      "at 0.54 threshold, p=0.68, r=0.78, f1=0.73\n",
      "at 0.55 threshold, p=0.68, r=0.77, f1=0.72\n",
      "at 0.56 threshold, p=0.69, r=0.76, f1=0.72\n",
      "at 0.57 threshold, p=0.70, r=0.75, f1=0.72\n",
      "at 0.58 threshold, p=0.70, r=0.74, f1=0.72\n",
      "at 0.59 threshold, p=0.71, r=0.73, f1=0.72\n"
     ]
    }
   ],
   "source": [
    "bound = np.arange(0.20, 0.60, 0.01)\n",
    "\n",
    "for b in bound:\n",
    "    pred = [1 if prob >= b else 0 for prob in df['y_score']]\n",
    "    p, r, f1, _ = precision_recall_fscore_support(df['y_true'], pred, average='binary')\n",
    "    print('at {:3.2f} threshold, p={:.2f}, r={:.2f}, f1={:.2f}'.format(b, p, r, f1))"
   ]
  },
  {
   "cell_type": "code",
   "execution_count": 66,
   "id": "designing-diving",
   "metadata": {
    "scrolled": false
   },
   "outputs": [
    {
     "data": {
      "image/png": "[encoded data removed]",
      "text/plain": [
       "<Figure size 432x288 with 1 Axes>"
      ]
     },
     "metadata": {
      "needs_background": "light"
     },
     "output_type": "display_data"
    }
   ],
   "source": [
    "fpr, tpr, _ = roc_curve(df['y_true'], df['y_score'])\n",
    "\n",
    "plt.clf()\n",
    "plt.title('Receiver Operating Characteristic')\n",
    "plt.plot(fpr, tpr, 'b', label='AUC = %0.2f' % metrics.auc(fpr, tpr))\n",
    "plt.legend(loc='lower right')\n",
    "plt.plot([0, 1], [0, 1], 'r--')\n",
    "plt.xlim([0, 1])\n",
    "plt.ylim([0, 1])\n",
    "plt.ylabel('True Positive Rate')\n",
    "plt.xlabel('False Positive Rate')\n",
    "plt.show()"
   ]
  },
  {
   "cell_type": "code",
   "execution_count": 10,
   "id": "cellular-joyce",
   "metadata": {},
   "outputs": [
    {
     "data": {
      "image/png": "[encoded data removed]",
      "text/plain": [
       "<Figure size 1440x360 with 1 Axes>"
      ]
     },
     "metadata": {
      "needs_background": "light"
     },
     "output_type": "display_data"
    }
   ],
   "source": [
    "p, r, _ = precision_recall_curve(df['y_true'], df['y_score'])\n",
    "\n",
    "plt.clf()\n",
    "plt.title('Precision-Recall')\n",
    "plt.plot(r, p, 'b', label='AUC = %0.2f' % metrics.auc(r, p))\n",
    "plt.legend(loc='upper right')\n",
    "plt.xlim([0, 1])\n",
    "plt.ylim([0, 1])\n",
    "plt.ylabel('Precision')\n",
    "plt.xlabel('Recall')\n",
    "plt.show()"
   ]
  },
  {
   "cell_type": "code",
   "execution_count": null,
   "id": "moved-wrapping",
   "metadata": {},
   "outputs": [],
   "source": []
  },
  {
   "cell_type": "code",
   "execution_count": null,
   "id": "interim-venture",
   "metadata": {},
   "outputs": [],
   "source": []
  },
  {
   "cell_type": "code",
   "execution_count": null,
   "id": "practical-square",
   "metadata": {},
   "outputs": [],
   "source": []
  },
  {
   "cell_type": "markdown",
   "id": "superb-office",
   "metadata": {},
   "source": [
    "## apache unbalance spacial tokens"
   ]
  },
  {
   "cell_type": "code",
   "execution_count": 3,
   "id": "furnished-links",
   "metadata": {},
   "outputs": [
    {
     "data": {
      "text/html": [
       "<div>\n",
       "<style scoped>\n",
       "    .dataframe tbody tr th:only-of-type {\n",
       "        vertical-align: middle;\n",
       "    }\n",
       "\n",
       "    .dataframe tbody tr th {\n",
       "        vertical-align: top;\n",
       "    }\n",
       "\n",
       "    .dataframe thead th {\n",
       "        text-align: right;\n",
       "    }\n",
       "</style>\n",
       "<table border=\"1\" class=\"dataframe\">\n",
       "  <thead>\n",
       "    <tr style=\"text-align: right;\">\n",
       "      <th></th>\n",
       "      <th>Unnamed: 0</th>\n",
       "      <th>y_true</th>\n",
       "      <th>y_score</th>\n",
       "    </tr>\n",
       "  </thead>\n",
       "  <tbody>\n",
       "    <tr>\n",
       "      <th>0</th>\n",
       "      <td>0</td>\n",
       "      <td>0</td>\n",
       "      <td>7.236878e-13</td>\n",
       "    </tr>\n",
       "    <tr>\n",
       "      <th>1</th>\n",
       "      <td>1</td>\n",
       "      <td>0</td>\n",
       "      <td>4.031732e-10</td>\n",
       "    </tr>\n",
       "    <tr>\n",
       "      <th>2</th>\n",
       "      <td>2</td>\n",
       "      <td>0</td>\n",
       "      <td>5.352125e-12</td>\n",
       "    </tr>\n",
       "    <tr>\n",
       "      <th>3</th>\n",
       "      <td>3</td>\n",
       "      <td>0</td>\n",
       "      <td>4.818599e-11</td>\n",
       "    </tr>\n",
       "    <tr>\n",
       "      <th>4</th>\n",
       "      <td>4</td>\n",
       "      <td>0</td>\n",
       "      <td>1.383762e-15</td>\n",
       "    </tr>\n",
       "    <tr>\n",
       "      <th>...</th>\n",
       "      <td>...</td>\n",
       "      <td>...</td>\n",
       "      <td>...</td>\n",
       "    </tr>\n",
       "    <tr>\n",
       "      <th>6456</th>\n",
       "      <td>6456</td>\n",
       "      <td>0</td>\n",
       "      <td>7.015243e-16</td>\n",
       "    </tr>\n",
       "    <tr>\n",
       "      <th>6457</th>\n",
       "      <td>6457</td>\n",
       "      <td>0</td>\n",
       "      <td>5.209852e-10</td>\n",
       "    </tr>\n",
       "    <tr>\n",
       "      <th>6458</th>\n",
       "      <td>6458</td>\n",
       "      <td>0</td>\n",
       "      <td>3.894311e-10</td>\n",
       "    </tr>\n",
       "    <tr>\n",
       "      <th>6459</th>\n",
       "      <td>6459</td>\n",
       "      <td>0</td>\n",
       "      <td>1.521096e-09</td>\n",
       "    </tr>\n",
       "    <tr>\n",
       "      <th>6460</th>\n",
       "      <td>6460</td>\n",
       "      <td>0</td>\n",
       "      <td>7.043299e-10</td>\n",
       "    </tr>\n",
       "  </tbody>\n",
       "</table>\n",
       "<p>6461 rows × 3 columns</p>\n",
       "</div>"
      ],
      "text/plain": [
       "      Unnamed: 0  y_true       y_score\n",
       "0              0       0  7.236878e-13\n",
       "1              1       0  4.031732e-10\n",
       "2              2       0  5.352125e-12\n",
       "3              3       0  4.818599e-11\n",
       "4              4       0  1.383762e-15\n",
       "...          ...     ...           ...\n",
       "6456        6456       0  7.015243e-16\n",
       "6457        6457       0  5.209852e-10\n",
       "6458        6458       0  3.894311e-10\n",
       "6459        6459       0  1.521096e-09\n",
       "6460        6460       0  7.043299e-10\n",
       "\n",
       "[6461 rows x 3 columns]"
      ]
     },
     "execution_count": 3,
     "metadata": {},
     "output_type": "execute_result"
    }
   ],
   "source": [
    "df = pd.read_csv('../data/test_result_20.csv')\n",
    "df"
   ]
  },
  {
   "cell_type": "code",
   "execution_count": 4,
   "id": "adolescent-nutrition",
   "metadata": {},
   "outputs": [
    {
     "data": {
      "text/plain": [
       "0.6546353965610949"
      ]
     },
     "execution_count": 4,
     "metadata": {},
     "output_type": "execute_result"
    }
   ],
   "source": [
    "roc_auc_score(df['y_true'], df['y_score'])"
   ]
  },
  {
   "cell_type": "code",
   "execution_count": 5,
   "id": "optical-parcel",
   "metadata": {},
   "outputs": [],
   "source": [
    "buggy_df = df[df['y_true'] == 1]\n",
    "clean_df = df[df['y_true'] == 0]"
   ]
  },
  {
   "cell_type": "code",
   "execution_count": 6,
   "id": "surgical-yugoslavia",
   "metadata": {
    "scrolled": true
   },
   "outputs": [
    {
     "data": {
      "image/png": "[encoded data removed]",
      "text/plain": [
       "<Figure size 1440x360 with 1 Axes>"
      ]
     },
     "metadata": {
      "needs_background": "light"
     },
     "output_type": "display_data"
    },
    {
     "name": "stdout",
     "output_type": "stream",
     "text": [
      "mean=0.00, median=0.00, std=0.00\n"
     ]
    }
   ],
   "source": [
    "plt.rcParams['figure.figsize'] = [20, 5]\n",
    "n, bins, patches = plt.hist(x=buggy_df['y_score'], bins=np.arange(0.0, 1.0, 0.05), color='#0504aa')\n",
    "plt.grid(axis='y')\n",
    "plt.xlabel('Probability')\n",
    "plt.ylabel('Frequency')\n",
    "maxfreq = n.max()\n",
    "plt.ylim(ymax=np.ceil(maxfreq / 10) * 10 if maxfreq % 10 else maxfreq + 10)\n",
    "plt.show()\n",
    "\n",
    "agg = buggy_df['y_score'].agg(['mean', 'median', 'std'])\n",
    "print('mean={:.2f}, median={:.2f}, std={:.2f}'.format(agg['mean'], agg['median'], agg['std']))"
   ]
  },
  {
   "cell_type": "code",
   "execution_count": 7,
   "id": "polyphonic-christian",
   "metadata": {
    "scrolled": true
   },
   "outputs": [
    {
     "data": {
      "image/png": "[encoded data removed]",
      "text/plain": [
       "<Figure size 1440x360 with 1 Axes>"
      ]
     },
     "metadata": {
      "needs_background": "light"
     },
     "output_type": "display_data"
    },
    {
     "name": "stdout",
     "output_type": "stream",
     "text": [
      "mean=0.00, median=0.00, std=0.00\n"
     ]
    }
   ],
   "source": [
    "plt.rcParams['figure.figsize'] = [20, 5]\n",
    "n, bins, patches = plt.hist(x=clean_df['y_score'], bins=np.arange(0.0, 1.0, 0.05), color='#0504aa')\n",
    "plt.grid(axis='y')\n",
    "plt.xlabel('Probability')\n",
    "plt.ylabel('Frequency')\n",
    "maxfreq = n.max()\n",
    "plt.ylim(ymax=np.ceil(maxfreq / 10) * 10 if maxfreq % 10 else maxfreq + 10)\n",
    "plt.show()\n",
    "\n",
    "agg = clean_df['y_score'].agg(['mean', 'median', 'std'])\n",
    "print('mean={:.2f}, median={:.2f}, std={:.2f}'.format(agg['mean'], agg['median'], agg['std']))"
   ]
  },
  {
   "cell_type": "code",
   "execution_count": 8,
   "id": "talented-morocco",
   "metadata": {
    "scrolled": false
   },
   "outputs": [
    {
     "name": "stderr",
     "output_type": "stream",
     "text": [
      "/home/h3keshav/anaconda3/envs/jit/lib/python3.6/site-packages/sklearn/metrics/_classification.py:1245: UndefinedMetricWarning: Precision and F-score are ill-defined and being set to 0.0 due to no predicted samples. Use `zero_division` parameter to control this behavior.\n",
      "  _warn_prf(average, modifier, msg_start, len(result))\n",
      "/home/h3keshav/anaconda3/envs/jit/lib/python3.6/site-packages/sklearn/metrics/_classification.py:1245: UndefinedMetricWarning: Precision and F-score are ill-defined and being set to 0.0 due to no predicted samples. Use `zero_division` parameter to control this behavior.\n",
      "  _warn_prf(average, modifier, msg_start, len(result))\n",
      "/home/h3keshav/anaconda3/envs/jit/lib/python3.6/site-packages/sklearn/metrics/_classification.py:1245: UndefinedMetricWarning: Precision and F-score are ill-defined and being set to 0.0 due to no predicted samples. Use `zero_division` parameter to control this behavior.\n",
      "  _warn_prf(average, modifier, msg_start, len(result))\n",
      "/home/h3keshav/anaconda3/envs/jit/lib/python3.6/site-packages/sklearn/metrics/_classification.py:1245: UndefinedMetricWarning: Precision and F-score are ill-defined and being set to 0.0 due to no predicted samples. Use `zero_division` parameter to control this behavior.\n",
      "  _warn_prf(average, modifier, msg_start, len(result))\n",
      "/home/h3keshav/anaconda3/envs/jit/lib/python3.6/site-packages/sklearn/metrics/_classification.py:1245: UndefinedMetricWarning: Precision and F-score are ill-defined and being set to 0.0 due to no predicted samples. Use `zero_division` parameter to control this behavior.\n",
      "  _warn_prf(average, modifier, msg_start, len(result))\n",
      "/home/h3keshav/anaconda3/envs/jit/lib/python3.6/site-packages/sklearn/metrics/_classification.py:1245: UndefinedMetricWarning: Precision and F-score are ill-defined and being set to 0.0 due to no predicted samples. Use `zero_division` parameter to control this behavior.\n",
      "  _warn_prf(average, modifier, msg_start, len(result))\n",
      "/home/h3keshav/anaconda3/envs/jit/lib/python3.6/site-packages/sklearn/metrics/_classification.py:1245: UndefinedMetricWarning: Precision and F-score are ill-defined and being set to 0.0 due to no predicted samples. Use `zero_division` parameter to control this behavior.\n",
      "  _warn_prf(average, modifier, msg_start, len(result))\n",
      "/home/h3keshav/anaconda3/envs/jit/lib/python3.6/site-packages/sklearn/metrics/_classification.py:1245: UndefinedMetricWarning: Precision and F-score are ill-defined and being set to 0.0 due to no predicted samples. Use `zero_division` parameter to control this behavior.\n",
      "  _warn_prf(average, modifier, msg_start, len(result))\n",
      "/home/h3keshav/anaconda3/envs/jit/lib/python3.6/site-packages/sklearn/metrics/_classification.py:1245: UndefinedMetricWarning: Precision and F-score are ill-defined and being set to 0.0 due to no predicted samples. Use `zero_division` parameter to control this behavior.\n",
      "  _warn_prf(average, modifier, msg_start, len(result))\n",
      "/home/h3keshav/anaconda3/envs/jit/lib/python3.6/site-packages/sklearn/metrics/_classification.py:1245: UndefinedMetricWarning: Precision and F-score are ill-defined and being set to 0.0 due to no predicted samples. Use `zero_division` parameter to control this behavior.\n",
      "  _warn_prf(average, modifier, msg_start, len(result))\n",
      "/home/h3keshav/anaconda3/envs/jit/lib/python3.6/site-packages/sklearn/metrics/_classification.py:1245: UndefinedMetricWarning: Precision and F-score are ill-defined and being set to 0.0 due to no predicted samples. Use `zero_division` parameter to control this behavior.\n",
      "  _warn_prf(average, modifier, msg_start, len(result))\n",
      "/home/h3keshav/anaconda3/envs/jit/lib/python3.6/site-packages/sklearn/metrics/_classification.py:1245: UndefinedMetricWarning: Precision and F-score are ill-defined and being set to 0.0 due to no predicted samples. Use `zero_division` parameter to control this behavior.\n",
      "  _warn_prf(average, modifier, msg_start, len(result))\n",
      "/home/h3keshav/anaconda3/envs/jit/lib/python3.6/site-packages/sklearn/metrics/_classification.py:1245: UndefinedMetricWarning: Precision and F-score are ill-defined and being set to 0.0 due to no predicted samples. Use `zero_division` parameter to control this behavior.\n",
      "  _warn_prf(average, modifier, msg_start, len(result))\n",
      "/home/h3keshav/anaconda3/envs/jit/lib/python3.6/site-packages/sklearn/metrics/_classification.py:1245: UndefinedMetricWarning: Precision and F-score are ill-defined and being set to 0.0 due to no predicted samples. Use `zero_division` parameter to control this behavior.\n",
      "  _warn_prf(average, modifier, msg_start, len(result))\n",
      "/home/h3keshav/anaconda3/envs/jit/lib/python3.6/site-packages/sklearn/metrics/_classification.py:1245: UndefinedMetricWarning: Precision and F-score are ill-defined and being set to 0.0 due to no predicted samples. Use `zero_division` parameter to control this behavior.\n",
      "  _warn_prf(average, modifier, msg_start, len(result))\n",
      "/home/h3keshav/anaconda3/envs/jit/lib/python3.6/site-packages/sklearn/metrics/_classification.py:1245: UndefinedMetricWarning: Precision and F-score are ill-defined and being set to 0.0 due to no predicted samples. Use `zero_division` parameter to control this behavior.\n",
      "  _warn_prf(average, modifier, msg_start, len(result))\n",
      "/home/h3keshav/anaconda3/envs/jit/lib/python3.6/site-packages/sklearn/metrics/_classification.py:1245: UndefinedMetricWarning: Precision and F-score are ill-defined and being set to 0.0 due to no predicted samples. Use `zero_division` parameter to control this behavior.\n",
      "  _warn_prf(average, modifier, msg_start, len(result))\n",
      "/home/h3keshav/anaconda3/envs/jit/lib/python3.6/site-packages/sklearn/metrics/_classification.py:1245: UndefinedMetricWarning: Precision and F-score are ill-defined and being set to 0.0 due to no predicted samples. Use `zero_division` parameter to control this behavior.\n",
      "  _warn_prf(average, modifier, msg_start, len(result))\n",
      "/home/h3keshav/anaconda3/envs/jit/lib/python3.6/site-packages/sklearn/metrics/_classification.py:1245: UndefinedMetricWarning: Precision and F-score are ill-defined and being set to 0.0 due to no predicted samples. Use `zero_division` parameter to control this behavior.\n",
      "  _warn_prf(average, modifier, msg_start, len(result))\n",
      "/home/h3keshav/anaconda3/envs/jit/lib/python3.6/site-packages/sklearn/metrics/_classification.py:1245: UndefinedMetricWarning: Precision and F-score are ill-defined and being set to 0.0 due to no predicted samples. Use `zero_division` parameter to control this behavior.\n",
      "  _warn_prf(average, modifier, msg_start, len(result))\n",
      "/home/h3keshav/anaconda3/envs/jit/lib/python3.6/site-packages/sklearn/metrics/_classification.py:1245: UndefinedMetricWarning: Precision and F-score are ill-defined and being set to 0.0 due to no predicted samples. Use `zero_division` parameter to control this behavior.\n",
      "  _warn_prf(average, modifier, msg_start, len(result))\n",
      "/home/h3keshav/anaconda3/envs/jit/lib/python3.6/site-packages/sklearn/metrics/_classification.py:1245: UndefinedMetricWarning: Precision and F-score are ill-defined and being set to 0.0 due to no predicted samples. Use `zero_division` parameter to control this behavior.\n",
      "  _warn_prf(average, modifier, msg_start, len(result))\n",
      "/home/h3keshav/anaconda3/envs/jit/lib/python3.6/site-packages/sklearn/metrics/_classification.py:1245: UndefinedMetricWarning: Precision and F-score are ill-defined and being set to 0.0 due to no predicted samples. Use `zero_division` parameter to control this behavior.\n",
      "  _warn_prf(average, modifier, msg_start, len(result))\n",
      "/home/h3keshav/anaconda3/envs/jit/lib/python3.6/site-packages/sklearn/metrics/_classification.py:1245: UndefinedMetricWarning: Precision and F-score are ill-defined and being set to 0.0 due to no predicted samples. Use `zero_division` parameter to control this behavior.\n",
      "  _warn_prf(average, modifier, msg_start, len(result))\n",
      "/home/h3keshav/anaconda3/envs/jit/lib/python3.6/site-packages/sklearn/metrics/_classification.py:1245: UndefinedMetricWarning: Precision and F-score are ill-defined and being set to 0.0 due to no predicted samples. Use `zero_division` parameter to control this behavior.\n",
      "  _warn_prf(average, modifier, msg_start, len(result))\n",
      "/home/h3keshav/anaconda3/envs/jit/lib/python3.6/site-packages/sklearn/metrics/_classification.py:1245: UndefinedMetricWarning: Precision and F-score are ill-defined and being set to 0.0 due to no predicted samples. Use `zero_division` parameter to control this behavior.\n",
      "  _warn_prf(average, modifier, msg_start, len(result))\n",
      "/home/h3keshav/anaconda3/envs/jit/lib/python3.6/site-packages/sklearn/metrics/_classification.py:1245: UndefinedMetricWarning: Precision and F-score are ill-defined and being set to 0.0 due to no predicted samples. Use `zero_division` parameter to control this behavior.\n",
      "  _warn_prf(average, modifier, msg_start, len(result))\n",
      "/home/h3keshav/anaconda3/envs/jit/lib/python3.6/site-packages/sklearn/metrics/_classification.py:1245: UndefinedMetricWarning: Precision and F-score are ill-defined and being set to 0.0 due to no predicted samples. Use `zero_division` parameter to control this behavior.\n",
      "  _warn_prf(average, modifier, msg_start, len(result))\n",
      "/home/h3keshav/anaconda3/envs/jit/lib/python3.6/site-packages/sklearn/metrics/_classification.py:1245: UndefinedMetricWarning: Precision and F-score are ill-defined and being set to 0.0 due to no predicted samples. Use `zero_division` parameter to control this behavior.\n",
      "  _warn_prf(average, modifier, msg_start, len(result))\n",
      "/home/h3keshav/anaconda3/envs/jit/lib/python3.6/site-packages/sklearn/metrics/_classification.py:1245: UndefinedMetricWarning: Precision and F-score are ill-defined and being set to 0.0 due to no predicted samples. Use `zero_division` parameter to control this behavior.\n",
      "  _warn_prf(average, modifier, msg_start, len(result))\n",
      "/home/h3keshav/anaconda3/envs/jit/lib/python3.6/site-packages/sklearn/metrics/_classification.py:1245: UndefinedMetricWarning: Precision and F-score are ill-defined and being set to 0.0 due to no predicted samples. Use `zero_division` parameter to control this behavior.\n",
      "  _warn_prf(average, modifier, msg_start, len(result))\n",
      "/home/h3keshav/anaconda3/envs/jit/lib/python3.6/site-packages/sklearn/metrics/_classification.py:1245: UndefinedMetricWarning: Precision and F-score are ill-defined and being set to 0.0 due to no predicted samples. Use `zero_division` parameter to control this behavior.\n",
      "  _warn_prf(average, modifier, msg_start, len(result))\n",
      "/home/h3keshav/anaconda3/envs/jit/lib/python3.6/site-packages/sklearn/metrics/_classification.py:1245: UndefinedMetricWarning: Precision and F-score are ill-defined and being set to 0.0 due to no predicted samples. Use `zero_division` parameter to control this behavior.\n",
      "  _warn_prf(average, modifier, msg_start, len(result))\n",
      "/home/h3keshav/anaconda3/envs/jit/lib/python3.6/site-packages/sklearn/metrics/_classification.py:1245: UndefinedMetricWarning: Precision and F-score are ill-defined and being set to 0.0 due to no predicted samples. Use `zero_division` parameter to control this behavior.\n",
      "  _warn_prf(average, modifier, msg_start, len(result))\n",
      "/home/h3keshav/anaconda3/envs/jit/lib/python3.6/site-packages/sklearn/metrics/_classification.py:1245: UndefinedMetricWarning: Precision and F-score are ill-defined and being set to 0.0 due to no predicted samples. Use `zero_division` parameter to control this behavior.\n",
      "  _warn_prf(average, modifier, msg_start, len(result))\n",
      "/home/h3keshav/anaconda3/envs/jit/lib/python3.6/site-packages/sklearn/metrics/_classification.py:1245: UndefinedMetricWarning: Precision and F-score are ill-defined and being set to 0.0 due to no predicted samples. Use `zero_division` parameter to control this behavior.\n",
      "  _warn_prf(average, modifier, msg_start, len(result))\n",
      "/home/h3keshav/anaconda3/envs/jit/lib/python3.6/site-packages/sklearn/metrics/_classification.py:1245: UndefinedMetricWarning: Precision and F-score are ill-defined and being set to 0.0 due to no predicted samples. Use `zero_division` parameter to control this behavior.\n",
      "  _warn_prf(average, modifier, msg_start, len(result))\n",
      "/home/h3keshav/anaconda3/envs/jit/lib/python3.6/site-packages/sklearn/metrics/_classification.py:1245: UndefinedMetricWarning: Precision and F-score are ill-defined and being set to 0.0 due to no predicted samples. Use `zero_division` parameter to control this behavior.\n",
      "  _warn_prf(average, modifier, msg_start, len(result))\n",
      "/home/h3keshav/anaconda3/envs/jit/lib/python3.6/site-packages/sklearn/metrics/_classification.py:1245: UndefinedMetricWarning: Precision and F-score are ill-defined and being set to 0.0 due to no predicted samples. Use `zero_division` parameter to control this behavior.\n",
      "  _warn_prf(average, modifier, msg_start, len(result))\n"
     ]
    },
    {
     "name": "stdout",
     "output_type": "stream",
     "text": [
      "at 0.20 threshold, p=0.00, r=0.00, f1=0.00\n",
      "at 0.21 threshold, p=0.00, r=0.00, f1=0.00\n",
      "at 0.22 threshold, p=0.00, r=0.00, f1=0.00\n",
      "at 0.23 threshold, p=0.00, r=0.00, f1=0.00\n",
      "at 0.24 threshold, p=0.00, r=0.00, f1=0.00\n",
      "at 0.25 threshold, p=0.00, r=0.00, f1=0.00\n",
      "at 0.26 threshold, p=0.00, r=0.00, f1=0.00\n",
      "at 0.27 threshold, p=0.00, r=0.00, f1=0.00\n",
      "at 0.28 threshold, p=0.00, r=0.00, f1=0.00\n",
      "at 0.29 threshold, p=0.00, r=0.00, f1=0.00\n",
      "at 0.30 threshold, p=0.00, r=0.00, f1=0.00\n",
      "at 0.31 threshold, p=0.00, r=0.00, f1=0.00\n",
      "at 0.32 threshold, p=0.00, r=0.00, f1=0.00\n",
      "at 0.33 threshold, p=0.00, r=0.00, f1=0.00\n",
      "at 0.34 threshold, p=0.00, r=0.00, f1=0.00\n",
      "at 0.35 threshold, p=0.00, r=0.00, f1=0.00\n",
      "at 0.36 threshold, p=0.00, r=0.00, f1=0.00\n",
      "at 0.37 threshold, p=0.00, r=0.00, f1=0.00\n",
      "at 0.38 threshold, p=0.00, r=0.00, f1=0.00\n",
      "at 0.39 threshold, p=0.00, r=0.00, f1=0.00\n",
      "at 0.40 threshold, p=0.00, r=0.00, f1=0.00\n",
      "at 0.41 threshold, p=0.00, r=0.00, f1=0.00\n",
      "at 0.42 threshold, p=0.00, r=0.00, f1=0.00\n",
      "at 0.43 threshold, p=0.00, r=0.00, f1=0.00\n",
      "at 0.44 threshold, p=0.00, r=0.00, f1=0.00\n",
      "at 0.45 threshold, p=0.00, r=0.00, f1=0.00\n",
      "at 0.46 threshold, p=0.00, r=0.00, f1=0.00\n",
      "at 0.47 threshold, p=0.00, r=0.00, f1=0.00\n",
      "at 0.48 threshold, p=0.00, r=0.00, f1=0.00\n",
      "at 0.49 threshold, p=0.00, r=0.00, f1=0.00\n",
      "at 0.50 threshold, p=0.00, r=0.00, f1=0.00\n",
      "at 0.51 threshold, p=0.00, r=0.00, f1=0.00\n",
      "at 0.52 threshold, p=0.00, r=0.00, f1=0.00\n",
      "at 0.53 threshold, p=0.00, r=0.00, f1=0.00\n",
      "at 0.54 threshold, p=0.00, r=0.00, f1=0.00\n",
      "at 0.55 threshold, p=0.00, r=0.00, f1=0.00\n",
      "at 0.56 threshold, p=0.00, r=0.00, f1=0.00\n",
      "at 0.57 threshold, p=0.00, r=0.00, f1=0.00\n",
      "at 0.58 threshold, p=0.00, r=0.00, f1=0.00\n",
      "at 0.59 threshold, p=0.00, r=0.00, f1=0.00\n"
     ]
    },
    {
     "name": "stderr",
     "output_type": "stream",
     "text": [
      "/home/h3keshav/anaconda3/envs/jit/lib/python3.6/site-packages/sklearn/metrics/_classification.py:1245: UndefinedMetricWarning: Precision and F-score are ill-defined and being set to 0.0 due to no predicted samples. Use `zero_division` parameter to control this behavior.\n",
      "  _warn_prf(average, modifier, msg_start, len(result))\n"
     ]
    }
   ],
   "source": [
    "bound = np.arange(0.20, 0.60, 0.01)\n",
    "\n",
    "for b in bound:\n",
    "    pred = [1 if prob >= b else 0 for prob in df['y_score']]\n",
    "    p, r, f1, _ = precision_recall_fscore_support(df['y_true'], pred, average='binary')\n",
    "    print('at {:3.2f} threshold, p={:.2f}, r={:.2f}, f1={:.2f}'.format(b, p, r, f1))"
   ]
  },
  {
   "cell_type": "code",
   "execution_count": 9,
   "id": "adult-istanbul",
   "metadata": {
    "scrolled": false
   },
   "outputs": [
    {
     "data": {
      "image/png": "[encoded data removed]",
      "text/plain": [
       "<Figure size 1440x360 with 1 Axes>"
      ]
     },
     "metadata": {
      "needs_background": "light"
     },
     "output_type": "display_data"
    }
   ],
   "source": [
    "fpr, tpr, _ = roc_curve(df['y_true'], df['y_score'])\n",
    "\n",
    "plt.clf()\n",
    "plt.title('Receiver Operating Characteristic')\n",
    "plt.plot(fpr, tpr, 'b', label='AUC = %0.2f' % metrics.auc(fpr, tpr))\n",
    "plt.legend(loc='lower right')\n",
    "plt.plot([0, 1], [0, 1], 'r--')\n",
    "plt.xlim([0, 1])\n",
    "plt.ylim([0, 1])\n",
    "plt.ylabel('True Positive Rate')\n",
    "plt.xlabel('False Positive Rate')\n",
    "plt.show()"
   ]
  },
  {
   "cell_type": "code",
   "execution_count": 10,
   "id": "eight-liquid",
   "metadata": {},
   "outputs": [
    {
     "data": {
      "image/png": "[encoded data removed]",
      "text/plain": [
       "<Figure size 1440x360 with 1 Axes>"
      ]
     },
     "metadata": {
      "needs_background": "light"
     },
     "output_type": "display_data"
    }
   ],
   "source": [
    "p, r, _ = precision_recall_curve(df['y_true'], df['y_score'])\n",
    "\n",
    "plt.clf()\n",
    "plt.title('Precision-Recall')\n",
    "plt.plot(r, p, 'b', label='AUC = %0.2f' % metrics.auc(r, p))\n",
    "plt.legend(loc='upper right')\n",
    "plt.xlim([0, 1])\n",
    "plt.ylim([0, 1])\n",
    "plt.ylabel('Precision')\n",
    "plt.xlabel('Recall')\n",
    "plt.show()"
   ]
  },
  {
   "cell_type": "code",
   "execution_count": null,
   "id": "equipped-departure",
   "metadata": {},
   "outputs": [],
   "source": []
  },
  {
   "cell_type": "code",
   "execution_count": null,
   "id": "portable-secret",
   "metadata": {},
   "outputs": [],
   "source": []
  },
  {
   "cell_type": "code",
   "execution_count": null,
   "id": "dangerous-resource",
   "metadata": {},
   "outputs": [],
   "source": []
  },
  {
   "cell_type": "code",
   "execution_count": null,
   "id": "impaired-premises",
   "metadata": {},
   "outputs": [],
   "source": []
  },
  {
   "cell_type": "code",
   "execution_count": null,
   "id": "gentle-cambodia",
   "metadata": {},
   "outputs": [],
   "source": []
  },
  {
   "cell_type": "markdown",
   "id": "oriented-humor",
   "metadata": {},
   "source": [
    "## cross-lingual spacial tokens"
   ]
  },
  {
   "cell_type": "code",
   "execution_count": 11,
   "id": "accessory-lloyd",
   "metadata": {},
   "outputs": [
    {
     "data": {
      "text/html": [
       "<div>\n",
       "<style scoped>\n",
       "    .dataframe tbody tr th:only-of-type {\n",
       "        vertical-align: middle;\n",
       "    }\n",
       "\n",
       "    .dataframe tbody tr th {\n",
       "        vertical-align: top;\n",
       "    }\n",
       "\n",
       "    .dataframe thead th {\n",
       "        text-align: right;\n",
       "    }\n",
       "</style>\n",
       "<table border=\"1\" class=\"dataframe\">\n",
       "  <thead>\n",
       "    <tr style=\"text-align: right;\">\n",
       "      <th></th>\n",
       "      <th>Unnamed: 0</th>\n",
       "      <th>y_true</th>\n",
       "      <th>y_score</th>\n",
       "    </tr>\n",
       "  </thead>\n",
       "  <tbody>\n",
       "    <tr>\n",
       "      <th>0</th>\n",
       "      <td>0</td>\n",
       "      <td>0</td>\n",
       "      <td>0.373526</td>\n",
       "    </tr>\n",
       "    <tr>\n",
       "      <th>1</th>\n",
       "      <td>1</td>\n",
       "      <td>0</td>\n",
       "      <td>0.313082</td>\n",
       "    </tr>\n",
       "    <tr>\n",
       "      <th>2</th>\n",
       "      <td>2</td>\n",
       "      <td>0</td>\n",
       "      <td>0.236330</td>\n",
       "    </tr>\n",
       "    <tr>\n",
       "      <th>3</th>\n",
       "      <td>3</td>\n",
       "      <td>0</td>\n",
       "      <td>0.163923</td>\n",
       "    </tr>\n",
       "    <tr>\n",
       "      <th>4</th>\n",
       "      <td>4</td>\n",
       "      <td>0</td>\n",
       "      <td>0.124792</td>\n",
       "    </tr>\n",
       "    <tr>\n",
       "      <th>...</th>\n",
       "      <td>...</td>\n",
       "      <td>...</td>\n",
       "      <td>...</td>\n",
       "    </tr>\n",
       "    <tr>\n",
       "      <th>1027</th>\n",
       "      <td>1027</td>\n",
       "      <td>0</td>\n",
       "      <td>0.399147</td>\n",
       "    </tr>\n",
       "    <tr>\n",
       "      <th>1028</th>\n",
       "      <td>1028</td>\n",
       "      <td>0</td>\n",
       "      <td>0.377693</td>\n",
       "    </tr>\n",
       "    <tr>\n",
       "      <th>1029</th>\n",
       "      <td>1029</td>\n",
       "      <td>0</td>\n",
       "      <td>0.417976</td>\n",
       "    </tr>\n",
       "    <tr>\n",
       "      <th>1030</th>\n",
       "      <td>1030</td>\n",
       "      <td>0</td>\n",
       "      <td>0.314656</td>\n",
       "    </tr>\n",
       "    <tr>\n",
       "      <th>1031</th>\n",
       "      <td>1031</td>\n",
       "      <td>0</td>\n",
       "      <td>0.269836</td>\n",
       "    </tr>\n",
       "  </tbody>\n",
       "</table>\n",
       "<p>1032 rows × 3 columns</p>\n",
       "</div>"
      ],
      "text/plain": [
       "      Unnamed: 0  y_true   y_score\n",
       "0              0       0  0.373526\n",
       "1              1       0  0.313082\n",
       "2              2       0  0.236330\n",
       "3              3       0  0.163923\n",
       "4              4       0  0.124792\n",
       "...          ...     ...       ...\n",
       "1027        1027       0  0.399147\n",
       "1028        1028       0  0.377693\n",
       "1029        1029       0  0.417976\n",
       "1030        1030       0  0.314656\n",
       "1031        1031       0  0.269836\n",
       "\n",
       "[1032 rows x 3 columns]"
      ]
     },
     "execution_count": 11,
     "metadata": {},
     "output_type": "execute_result"
    }
   ],
   "source": [
    "df = pd.read_csv('../data/test_result_21.csv')\n",
    "df"
   ]
  },
  {
   "cell_type": "code",
   "execution_count": 12,
   "id": "future-marina",
   "metadata": {},
   "outputs": [
    {
     "data": {
      "text/plain": [
       "0.6437100488724377"
      ]
     },
     "execution_count": 12,
     "metadata": {},
     "output_type": "execute_result"
    }
   ],
   "source": [
    "roc_auc_score(df['y_true'], df['y_score'])"
   ]
  },
  {
   "cell_type": "code",
   "execution_count": 13,
   "id": "grand-islam",
   "metadata": {},
   "outputs": [],
   "source": [
    "buggy_df = df[df['y_true'] == 1]\n",
    "clean_df = df[df['y_true'] == 0]"
   ]
  },
  {
   "cell_type": "code",
   "execution_count": 14,
   "id": "capable-boxing",
   "metadata": {
    "scrolled": true
   },
   "outputs": [
    {
     "data": {
      "image/png": "[encoded data removed]",
      "text/plain": [
       "<Figure size 1440x360 with 1 Axes>"
      ]
     },
     "metadata": {
      "needs_background": "light"
     },
     "output_type": "display_data"
    },
    {
     "name": "stdout",
     "output_type": "stream",
     "text": [
      "mean=0.35, median=0.36, std=0.11\n"
     ]
    }
   ],
   "source": [
    "plt.rcParams['figure.figsize'] = [20, 5]\n",
    "n, bins, patches = plt.hist(x=buggy_df['y_score'], bins=np.arange(0.0, 1.0, 0.05), color='#0504aa')\n",
    "plt.grid(axis='y')\n",
    "plt.xlabel('Probability')\n",
    "plt.ylabel('Frequency')\n",
    "maxfreq = n.max()\n",
    "plt.ylim(ymax=np.ceil(maxfreq / 10) * 10 if maxfreq % 10 else maxfreq + 10)\n",
    "plt.show()\n",
    "\n",
    "agg = buggy_df['y_score'].agg(['mean', 'median', 'std'])\n",
    "print('mean={:.2f}, median={:.2f}, std={:.2f}'.format(agg['mean'], agg['median'], agg['std']))"
   ]
  },
  {
   "cell_type": "code",
   "execution_count": 15,
   "id": "alpine-relation",
   "metadata": {
    "scrolled": true
   },
   "outputs": [
    {
     "data": {
      "image/png": "[encoded data removed]",
      "text/plain": [
       "<Figure size 1440x360 with 1 Axes>"
      ]
     },
     "metadata": {
      "needs_background": "light"
     },
     "output_type": "display_data"
    },
    {
     "name": "stdout",
     "output_type": "stream",
     "text": [
      "mean=0.29, median=0.30, std=0.12\n"
     ]
    }
   ],
   "source": [
    "plt.rcParams['figure.figsize'] = [20, 5]\n",
    "n, bins, patches = plt.hist(x=clean_df['y_score'], bins=np.arange(0.0, 1.0, 0.05), color='#0504aa')\n",
    "plt.grid(axis='y')\n",
    "plt.xlabel('Probability')\n",
    "plt.ylabel('Frequency')\n",
    "maxfreq = n.max()\n",
    "plt.ylim(ymax=np.ceil(maxfreq / 10) * 10 if maxfreq % 10 else maxfreq + 10)\n",
    "plt.show()\n",
    "\n",
    "agg = clean_df['y_score'].agg(['mean', 'median', 'std'])\n",
    "print('mean={:.2f}, median={:.2f}, std={:.2f}'.format(agg['mean'], agg['median'], agg['std']))"
   ]
  },
  {
   "cell_type": "code",
   "execution_count": 16,
   "id": "unsigned-willow",
   "metadata": {
    "scrolled": false
   },
   "outputs": [
    {
     "name": "stdout",
     "output_type": "stream",
     "text": [
      "at 0.20 threshold, p=0.16, r=0.92, f1=0.28\n",
      "at 0.21 threshold, p=0.17, r=0.90, f1=0.28\n",
      "at 0.22 threshold, p=0.17, r=0.88, f1=0.29\n",
      "at 0.23 threshold, p=0.17, r=0.87, f1=0.29\n",
      "at 0.24 threshold, p=0.18, r=0.85, f1=0.29\n",
      "at 0.25 threshold, p=0.18, r=0.83, f1=0.29\n",
      "at 0.26 threshold, p=0.18, r=0.81, f1=0.30\n",
      "at 0.27 threshold, p=0.19, r=0.80, f1=0.31\n",
      "at 0.28 threshold, p=0.19, r=0.77, f1=0.30\n",
      "at 0.29 threshold, p=0.19, r=0.73, f1=0.30\n",
      "at 0.30 threshold, p=0.19, r=0.71, f1=0.30\n",
      "at 0.31 threshold, p=0.20, r=0.68, f1=0.30\n",
      "at 0.32 threshold, p=0.20, r=0.64, f1=0.30\n",
      "at 0.33 threshold, p=0.21, r=0.61, f1=0.31\n",
      "at 0.34 threshold, p=0.21, r=0.56, f1=0.30\n",
      "at 0.35 threshold, p=0.22, r=0.54, f1=0.31\n",
      "at 0.36 threshold, p=0.23, r=0.52, f1=0.32\n",
      "at 0.37 threshold, p=0.23, r=0.48, f1=0.31\n",
      "at 0.38 threshold, p=0.22, r=0.40, f1=0.28\n",
      "at 0.39 threshold, p=0.22, r=0.36, f1=0.27\n",
      "at 0.40 threshold, p=0.23, r=0.31, f1=0.26\n",
      "at 0.41 threshold, p=0.23, r=0.28, f1=0.25\n",
      "at 0.42 threshold, p=0.24, r=0.25, f1=0.24\n",
      "at 0.43 threshold, p=0.22, r=0.19, f1=0.21\n",
      "at 0.44 threshold, p=0.22, r=0.17, f1=0.20\n",
      "at 0.45 threshold, p=0.23, r=0.15, f1=0.19\n",
      "at 0.46 threshold, p=0.25, r=0.14, f1=0.18\n",
      "at 0.47 threshold, p=0.27, r=0.13, f1=0.17\n",
      "at 0.48 threshold, p=0.26, r=0.11, f1=0.15\n",
      "at 0.49 threshold, p=0.28, r=0.09, f1=0.14\n",
      "at 0.50 threshold, p=0.29, r=0.08, f1=0.13\n",
      "at 0.51 threshold, p=0.31, r=0.07, f1=0.12\n",
      "at 0.52 threshold, p=0.27, r=0.06, f1=0.10\n",
      "at 0.53 threshold, p=0.25, r=0.04, f1=0.07\n",
      "at 0.54 threshold, p=0.25, r=0.04, f1=0.07\n",
      "at 0.55 threshold, p=0.26, r=0.03, f1=0.06\n",
      "at 0.56 threshold, p=0.29, r=0.03, f1=0.06\n",
      "at 0.57 threshold, p=0.33, r=0.03, f1=0.06\n",
      "at 0.58 threshold, p=0.20, r=0.01, f1=0.03\n",
      "at 0.59 threshold, p=0.22, r=0.01, f1=0.03\n"
     ]
    }
   ],
   "source": [
    "bound = np.arange(0.20, 0.60, 0.01)\n",
    "\n",
    "for b in bound:\n",
    "    pred = [1 if prob >= b else 0 for prob in df['y_score']]\n",
    "    p, r, f1, _ = precision_recall_fscore_support(df['y_true'], pred, average='binary')\n",
    "    print('at {:3.2f} threshold, p={:.2f}, r={:.2f}, f1={:.2f}'.format(b, p, r, f1))"
   ]
  },
  {
   "cell_type": "code",
   "execution_count": 17,
   "id": "cathedral-being",
   "metadata": {
    "scrolled": false
   },
   "outputs": [
    {
     "data": {
      "image/png": "[encoded data removed]",
      "text/plain": [
       "<Figure size 1440x360 with 1 Axes>"
      ]
     },
     "metadata": {
      "needs_background": "light"
     },
     "output_type": "display_data"
    }
   ],
   "source": [
    "fpr, tpr, _ = roc_curve(df['y_true'], df['y_score'])\n",
    "\n",
    "plt.clf()\n",
    "plt.title('Receiver Operating Characteristic')\n",
    "plt.plot(fpr, tpr, 'b', label='AUC = %0.2f' % metrics.auc(fpr, tpr))\n",
    "plt.legend(loc='lower right')\n",
    "plt.plot([0, 1], [0, 1], 'r--')\n",
    "plt.xlim([0, 1])\n",
    "plt.ylim([0, 1])\n",
    "plt.ylabel('True Positive Rate')\n",
    "plt.xlabel('False Positive Rate')\n",
    "plt.show()"
   ]
  },
  {
   "cell_type": "code",
   "execution_count": 18,
   "id": "bulgarian-substance",
   "metadata": {},
   "outputs": [
    {
     "data": {
      "image/png": "[encoded data removed]",
      "text/plain": [
       "<Figure size 1440x360 with 1 Axes>"
      ]
     },
     "metadata": {
      "needs_background": "light"
     },
     "output_type": "display_data"
    }
   ],
   "source": [
    "p, r, _ = precision_recall_curve(df['y_true'], df['y_score'])\n",
    "\n",
    "plt.clf()\n",
    "plt.title('Precision-Recall')\n",
    "plt.plot(r, p, 'b', label='AUC = %0.2f' % metrics.auc(r, p))\n",
    "plt.legend(loc='upper right')\n",
    "plt.xlim([0, 1])\n",
    "plt.ylim([0, 1])\n",
    "plt.ylabel('Precision')\n",
    "plt.xlabel('Recall')\n",
    "plt.show()"
   ]
  },
  {
   "cell_type": "code",
   "execution_count": null,
   "id": "republican-longer",
   "metadata": {},
   "outputs": [],
   "source": []
  },
  {
   "cell_type": "code",
   "execution_count": null,
   "id": "medical-western",
   "metadata": {},
   "outputs": [],
   "source": []
  },
  {
   "cell_type": "code",
   "execution_count": null,
   "id": "exact-november",
   "metadata": {},
   "outputs": [],
   "source": []
  }
 ],
 "metadata": {
  "kernelspec": {
   "display_name": "Python 3",
   "language": "python",
   "name": "python3"
  },
  "language_info": {
   "codemirror_mode": {
    "name": "ipython",
    "version": 3
   },
   "file_extension": ".py",
   "mimetype": "text/x-python",
   "name": "python",
   "nbconvert_exporter": "python",
   "pygments_lexer": "ipython3",
   "version": "3.6.12"
  }
 },
 "nbformat": 4,
 "nbformat_minor": 5
}
